{
 "cells": [
  {
   "cell_type": "markdown",
   "metadata": {},
   "source": [
    "## Data Exploration"
   ]
  },
  {
   "cell_type": "markdown",
   "metadata": {},
   "source": [
    "Research provides utility functions to query pricing, volume, and returns data for 8000+ US equities, from 2002 up to the most recently completed trading day. These functions take an asset (or list of assets) along with a start and end date, and return a pandas [Series](http://pandas.pydata.org/pandas-docs/version/0.18/generated/pandas.Series.html) (or [DataFrame](http://pandas.pydata.org/pandas-docs/version/0.18/generated/pandas.DataFrame.html)) indexed by date.  \n",
    "\n",
    "Let's define the period of time we want to explore and use the `returns` function to query data for AAPL:"
   ]
  },
  {
   "cell_type": "code",
   "execution_count": 12,
   "metadata": {},
   "outputs": [
    {
     "data": {
      "text/plain": [
       "2014-01-02 00:00:00+00:00   -0.014137\n",
       "2014-01-03 00:00:00+00:00   -0.022027\n",
       "2014-01-06 00:00:00+00:00    0.005376\n",
       "2014-01-07 00:00:00+00:00   -0.007200\n",
       "2014-01-08 00:00:00+00:00    0.006406\n",
       "2014-01-09 00:00:00+00:00   -0.012861\n",
       "2014-01-10 00:00:00+00:00   -0.006674\n",
       "2014-01-13 00:00:00+00:00    0.005043\n",
       "2014-01-14 00:00:00+00:00    0.020123\n",
       "2014-01-15 00:00:00+00:00    0.020079\n",
       "Freq: C, Name: Equity(24 [AAPL]), dtype: float64"
      ]
     },
     "execution_count": 12,
     "metadata": {},
     "output_type": "execute_result"
    }
   ],
   "source": [
    "# Research environment functions\n",
    "from quantopian.research import returns, symbols\n",
    "\n",
    "# Select a time range to inspect\n",
    "period_start = '2014-01-01'\n",
    "period_end = '2014-12-31'\n",
    "\n",
    "# Query returns data for AAPL\n",
    "# over the selected time range\n",
    "aapl_returns = returns(\n",
    "    assets =symbols('AAPL'),\n",
    "    start=period_start,\n",
    "    end=period_end,\n",
    ")\n",
    "\n",
    "# Display first 10 rows\n",
    "aapl_returns.head(10)"
   ]
  },
  {
   "cell_type": "markdown",
   "metadata": {},
   "source": [
    "### Alternative Data"
   ]
  },
  {
   "cell_type": "markdown",
   "metadata": {},
   "source": [
    "In addition to pricing and volume data, Quantopian integrates a number of alternative datasets that include corporate fundamentals, stock sentiment analysis, and macroeconomic indicators, to name a few. You can find the complete list of 50+ datasets on Quantopian's [data page](https://www.quantopian.com/data).  \n",
    "\n",
    "Our goal in this tutorial will be to build an algorithm that selects and trades assets based on sentiment data, so let's take a look at PsychSignal's [StockTwits Trader Mood](https://www.quantopian.com/data/psychsignal/stocktwits) dataset. PsychSignal's dataset assigns bull and bear scores to stocks each day based on the aggregate sentiment from messages posted on Stocktwits, a financial communications platform.  \n",
    "\n",
    "We can start by inspecting the message volume and sentiment score (bull minus bear) columns from the `stocktwits` dataset. We will query the data using Quantopian's Pipeline API, which is a powerful tool you will use over and over again to access and analyze data in Research. You will learn a lot more about the Pipeline API in the next lesson and a [later tutorial](https://www.quantopian.com/tutorials/pipeline). For now all you need to know is that the following code uses a data pipeline to query `stocktwits` and returns data, and plots the results for AAPL:"
   ]
  },
  {
   "cell_type": "code",
   "execution_count": null,
   "metadata": {},
   "outputs": [],
   "source": [
    "# Pipeline imports\n",
    "from quantopian.research import run_pipeline\n",
    "from quantopian.pipeline import Pipeline\n",
    "from quantopian.pipeline.factors import Returns\n",
    "from quantopian.pipeline.data.psychsignal import stocktwits\n",
    "\n",
    "# Pipeline definition\n",
    "def make_pipeline():\n",
    "\n",
    "    returns = Returns(window_length=2)\n",
    "    sentiment = stocktwits.bull_minus_bear.latest\n",
    "    msg_volume = stocktwits.total_scanned_messages.latest\n",
    "\n",
    "    return Pipeline(\n",
    "        columns={\n",
    "            'daily_returns': returns,\n",
    "            'sentiment': sentiment,\n",
    "            'msg_volume': msg_volume,\n",
    "        },\n",
    "    )\n",
    "\n",
    "# Pipeline execution\n",
    "data_output = run_pipeline(\n",
    "    make_pipeline(),\n",
    "    start_date=period_start,\n",
    "    end_date=period_end\n",
    ")\n",
    "\n",
    "# Filter results for AAPL\n",
    "aapl_output = data_output.xs(\n",
    "    symbols('AAPL'),\n",
    "    level=1\n",
    ")\n",
    "\n",
    "# Plot results for AAPL\n",
    "aapl_output.plot(subplots=True);"
   ]
  },
  {
   "cell_type": "markdown",
   "metadata": {},
   "source": [
    "When exploring a dataset, try to look for patterns that might serve as the basis for a trading strategy. For example, the above plot shows some matching spikes between daily returns and `stocktwits` message volume, and in some cases the direction of the spikes in returns match the direction of AAPL's sentiment score. This looks interesting enough that we should conduct more rigorous statistical tests to confirm our hypotheses.  \n",
    "\n",
    "In the next lesson we will cover the Pipeline API in more depth."
   ]
  }
 ],
 "metadata": {
  "kernelspec": {
   "display_name": "Python 2.7 (deprecated)",
   "language": "python",
   "name": "python2"
  },
  "language_info": {
   "codemirror_mode": {
    "name": "ipython",
    "version": 2
   },
   "file_extension": ".py",
   "mimetype": "text/x-python",
   "name": "python",
   "nbconvert_exporter": "python",
   "pygments_lexer": "ipython2",
   "version": "2.7.17"
  }
 },
 "nbformat": 4,
 "nbformat_minor": 2
}